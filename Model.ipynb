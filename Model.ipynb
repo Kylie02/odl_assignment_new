{
 "cells": [
  {
   "cell_type": "markdown",
   "metadata": {},
   "source": [
    "### Base Model"
   ]
  },
  {
   "cell_type": "markdown",
   "metadata": {},
   "source": [
    "#### Model Architecture 1"
   ]
  },
  {
   "cell_type": "markdown",
   "metadata": {},
   "source": [
    "Classification report & confusion matrix"
   ]
  },
  {
   "cell_type": "code",
   "execution_count": null,
   "metadata": {},
   "outputs": [],
   "source": [
    "dnn_target_pred_train = base_model.predict(risk_factors_train) \n",
    "dnn_target_pred_test = base_model.predict(risk_factors_test)\n",
    "\n",
    "dnn_train_accuracy = accuracy_score(target_train, dnn_target_pred_train)\n",
    "dnn_test_accuracy = accuracy_score(target_test, dnn_target_pred_test)\n",
    "test_conf_matrix = confusion_matrix(target_test, dnn_target_pred_test)\n",
    "\n",
    "# Classification report\n",
    "dnn_test_report = classification_report(target_test, dnn_target_pred_test, target_names=target_names, digits=4)\n",
    "\n",
    "print(\"Training Accuracy: \", dnn_train_accuracy)\n",
    "print(\"Testing Accuracy: \", dnn_test_accuracy)\n",
    "print(\"\\nClassification Report: \\n\", dnn_test_report)\n",
    "\n",
    "# Confusion Matrix\n",
    "test_conf_matrix = confusion_matrix(target_test, dnn_target_pred_test)\n",
    "plt.figure(figsize=(5, 3))\n",
    "sns.heatmap(test_conf_matrix, annot=True, cmap='Reds', fmt='d', xticklabels=target_names, yticklabels=target_names)\n",
    "plt.xlabel('Predicted Label')\n",
    "plt.ylabel('Actual Label')\n",
    "plt.title('Confusion Matrix')\n",
    "plt.show()"
   ]
  },
  {
   "cell_type": "markdown",
   "metadata": {},
   "source": [
    "Accuracy & Loss graph"
   ]
  },
  {
   "cell_type": "code",
   "execution_count": null,
   "metadata": {},
   "outputs": [],
   "source": [
    "acc2 = base_history.history['accuracy']\n",
    "val_acc = base_history.history['val_accuracy']\n",
    "loss2 = base_history.history['loss']\n",
    "val_loss = base_history.history['val_loss']\n",
    " \n",
    "epochs = range(1,len(acc2)+1)\n",
    " \n",
    "# Creating subplots\n",
    "fig, axes = plt.subplots(nrows=1, ncols=2, figsize=(7,3))\n",
    " \n",
    "axes[0].plot(epochs, acc2,'b',label='Train Accuracy')\n",
    "axes[0].plot(epochs, val_acc,'r',label='Test Accuracy')\n",
    "axes[0].set_xlabel('Epoch')\n",
    "axes[0].set_ylabel('Accuracy')\n",
    "axes[0].legend()\n",
    " \n",
    "axes[1].plot(epochs, loss2,'b',label='Train Loss')\n",
    "axes[1].plot(epochs, val_loss,'r',label='Test Loss')\n",
    "axes[1].set_xlabel('Epoch')\n",
    "axes[1].set_ylabel('Loss')\n",
    "axes[1].legend()\n",
    " \n",
    "# Adjusting layout for better spacing\n",
    "plt.tight_layout()\n",
    " \n",
    "# Display the figure\n",
    "plt.show()"
   ]
  },
  {
   "cell_type": "markdown",
   "metadata": {},
   "source": [
    "#### Model Architecture 2"
   ]
  },
  {
   "cell_type": "markdown",
   "metadata": {},
   "source": [
    "### Hyperparameter Tuning (Optuna - Random Search)"
   ]
  },
  {
   "cell_type": "markdown",
   "metadata": {},
   "source": [
    "### Tuned Model"
   ]
  }
 ],
 "metadata": {
  "kernelspec": {
   "display_name": "Python 3",
   "language": "python",
   "name": "python3"
  },
  "language_info": {
   "name": "python",
   "version": "3.12.2"
  }
 },
 "nbformat": 4,
 "nbformat_minor": 2
}
